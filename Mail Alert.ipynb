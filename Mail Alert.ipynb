{
 "cells": [
  {
   "cell_type": "code",
   "execution_count": 3,
   "metadata": {},
   "outputs": [
    {
     "data": {
      "text/plain": [
       "(221, b'2.0.0 closing connection c184sm19282378pfa.39 - gsmtp')"
      ]
     },
     "execution_count": 3,
     "metadata": {},
     "output_type": "execute_result"
    }
   ],
   "source": [
    "import smtplib\n",
    "#create object in this case we User GMAIL , 587 is Gmail.\n",
    "smtpObj = smtplib.SMTP('smtp.gmail.com', 587)\n",
    "#Encryption.\n",
    "smtpObj.starttls()\n",
    "#Time to login to your email, then enter your password.\n",
    "smtpObj.login('prolevelsurveillance007@gmail.com', 'xyz@12345')\n",
    "#Now Create your Message remember to add your email, then receivers email, subject, message.\n",
    "smtpObj.sendmail('prolevelsurveillance007@gmail.com','500054226@stu.upes.ac.in','Subject: alert!!!!!!!')\n",
    "smtpObj.quit()"
   ]
  },
  {
   "cell_type": "code",
   "execution_count": null,
   "metadata": {},
   "outputs": [],
   "source": []
  }
 ],
 "metadata": {
  "kernelspec": {
   "display_name": "Python 3",
   "language": "python",
   "name": "python3"
  },
  "language_info": {
   "codemirror_mode": {
    "name": "ipython",
    "version": 3
   },
   "file_extension": ".py",
   "mimetype": "text/x-python",
   "name": "python",
   "nbconvert_exporter": "python",
   "pygments_lexer": "ipython3",
   "version": "3.7.4"
  }
 },
 "nbformat": 4,
 "nbformat_minor": 2
}
