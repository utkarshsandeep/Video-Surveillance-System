{
 "cells": [
  {
   "cell_type": "code",
   "execution_count": 1,
   "metadata": {},
   "outputs": [],
   "source": [
    "import cv2"
   ]
  },
  {
   "cell_type": "code",
   "execution_count": 2,
   "metadata": {},
   "outputs": [],
   "source": [
    "import numpy as np\n",
    "import time"
   ]
  },
  {
   "cell_type": "code",
   "execution_count": 3,
   "metadata": {},
   "outputs": [
    {
     "name": "stderr",
     "output_type": "stream",
     "text": [
      "D:\\Anaconda\\lib\\site-packages\\h5py\\__init__.py:36: FutureWarning: Conversion of the second argument of issubdtype from `float` to `np.floating` is deprecated. In future, it will be treated as `np.float64 == np.dtype(float).type`.\n",
      "  from ._conv import register_converters as _register_converters\n"
     ]
    }
   ],
   "source": [
    "from darkflow.net.build import TFNet"
   ]
  },
  {
   "cell_type": "code",
   "execution_count": 4,
   "metadata": {},
   "outputs": [
    {
     "data": {
      "text/plain": [
       "(235, b'2.7.0 Accepted')"
      ]
     },
     "execution_count": 4,
     "metadata": {},
     "output_type": "execute_result"
    }
   ],
   "source": [
    "import smtplib\n",
    "#create object in this case we User GMAIL , 587 is Gmail.\n",
    "smtpObj = smtplib.SMTP('smtp.gmail.com', 587)\n",
    "#Encryption.\n",
    "smtpObj.starttls()\n",
    "#Time to login to your email, then enter your password.\n",
    "smtpObj.login('prolevelsurveillance007@gmail.com', 'xyz@12345')"
   ]
  },
  {
   "cell_type": "code",
   "execution_count": 5,
   "metadata": {},
   "outputs": [],
   "source": [
    "import os\n",
    "os.chdir('D:\\YOLO REPO\\darkflow-master')"
   ]
  },
  {
   "cell_type": "code",
   "execution_count": 6,
   "metadata": {},
   "outputs": [
    {
     "name": "stdout",
     "output_type": "stream",
     "text": [
      "Parsing ./cfg/yolo.cfg\n",
      "Parsing cfg/yolo.cfg\n",
      "Loading bin/yolo.weights ...\n",
      "Successfully identified 203934260 bytes\n",
      "Finished in 0.10937738418579102s\n",
      "Model has a coco model name, loading coco labels.\n",
      "\n",
      "Building net ...\n",
      "Source | Train? | Layer description                | Output size\n",
      "-------+--------+----------------------------------+---------------\n",
      "WARNING:tensorflow:From D:\\Anaconda\\lib\\site-packages\\tensorflow\\python\\framework\\op_def_library.py:263: colocate_with (from tensorflow.python.framework.ops) is deprecated and will be removed in a future version.\n",
      "Instructions for updating:\n",
      "Colocations handled automatically by placer.\n",
      "       |        | input                            | (?, 608, 608, 3)\n",
      " Load  |  Yep!  | conv 3x3p1_1  +bnorm  leaky      | (?, 608, 608, 32)\n",
      " Load  |  Yep!  | maxp 2x2p0_2                     | (?, 304, 304, 32)\n",
      " Load  |  Yep!  | conv 3x3p1_1  +bnorm  leaky      | (?, 304, 304, 64)\n",
      " Load  |  Yep!  | maxp 2x2p0_2                     | (?, 152, 152, 64)\n",
      " Load  |  Yep!  | conv 3x3p1_1  +bnorm  leaky      | (?, 152, 152, 128)\n",
      " Load  |  Yep!  | conv 1x1p0_1  +bnorm  leaky      | (?, 152, 152, 64)\n",
      " Load  |  Yep!  | conv 3x3p1_1  +bnorm  leaky      | (?, 152, 152, 128)\n",
      " Load  |  Yep!  | maxp 2x2p0_2                     | (?, 76, 76, 128)\n",
      " Load  |  Yep!  | conv 3x3p1_1  +bnorm  leaky      | (?, 76, 76, 256)\n",
      " Load  |  Yep!  | conv 1x1p0_1  +bnorm  leaky      | (?, 76, 76, 128)\n",
      " Load  |  Yep!  | conv 3x3p1_1  +bnorm  leaky      | (?, 76, 76, 256)\n",
      " Load  |  Yep!  | maxp 2x2p0_2                     | (?, 38, 38, 256)\n",
      " Load  |  Yep!  | conv 3x3p1_1  +bnorm  leaky      | (?, 38, 38, 512)\n",
      " Load  |  Yep!  | conv 1x1p0_1  +bnorm  leaky      | (?, 38, 38, 256)\n",
      " Load  |  Yep!  | conv 3x3p1_1  +bnorm  leaky      | (?, 38, 38, 512)\n",
      " Load  |  Yep!  | conv 1x1p0_1  +bnorm  leaky      | (?, 38, 38, 256)\n",
      " Load  |  Yep!  | conv 3x3p1_1  +bnorm  leaky      | (?, 38, 38, 512)\n",
      " Load  |  Yep!  | maxp 2x2p0_2                     | (?, 19, 19, 512)\n",
      " Load  |  Yep!  | conv 3x3p1_1  +bnorm  leaky      | (?, 19, 19, 1024)\n",
      " Load  |  Yep!  | conv 1x1p0_1  +bnorm  leaky      | (?, 19, 19, 512)\n",
      " Load  |  Yep!  | conv 3x3p1_1  +bnorm  leaky      | (?, 19, 19, 1024)\n",
      " Load  |  Yep!  | conv 1x1p0_1  +bnorm  leaky      | (?, 19, 19, 512)\n",
      " Load  |  Yep!  | conv 3x3p1_1  +bnorm  leaky      | (?, 19, 19, 1024)\n",
      " Load  |  Yep!  | conv 3x3p1_1  +bnorm  leaky      | (?, 19, 19, 1024)\n",
      " Load  |  Yep!  | conv 3x3p1_1  +bnorm  leaky      | (?, 19, 19, 1024)\n",
      " Load  |  Yep!  | concat [16]                      | (?, 38, 38, 512)\n",
      " Load  |  Yep!  | conv 1x1p0_1  +bnorm  leaky      | (?, 38, 38, 64)\n",
      " Load  |  Yep!  | local flatten 2x2                | (?, 19, 19, 256)\n",
      " Load  |  Yep!  | concat [27, 24]                  | (?, 19, 19, 1280)\n",
      " Load  |  Yep!  | conv 3x3p1_1  +bnorm  leaky      | (?, 19, 19, 1024)\n",
      " Load  |  Yep!  | conv 1x1p0_1    linear           | (?, 19, 19, 425)\n",
      "-------+--------+----------------------------------+---------------\n",
      "GPU mode with 1.0 usage\n",
      "Finished in 113.5815634727478s\n",
      "\n"
     ]
    }
   ],
   "source": [
    "options = {\n",
    "    'model': 'cfg/yolo.cfg',\n",
    "    'load': 'bin/yolo.weights',\n",
    "    'threshold': 0.2,\n",
    "    'gpu': 1.0\n",
    "}\n",
    "\n",
    "tfnet = TFNet(options)\n",
    "colors = [tuple(255 * np.random.rand(3)) for _ in range(10)]\n",
    "\n"
   ]
  },
  {
   "cell_type": "code",
   "execution_count": 7,
   "metadata": {},
   "outputs": [
    {
     "name": "stdout",
     "output_type": "stream",
     "text": [
      "FPS 0.0\n",
      "FPS 0.3\n",
      "FPS 0.4\n",
      "FPS 0.4\n",
      "FPS 0.4\n",
      "FPS 0.4\n",
      "FPS 0.4\n",
      "FPS 0.1\n",
      "FPS 0.4\n",
      "FPS 0.3\n",
      "FPS 0.4\n",
      "FPS 0.4\n",
      "FPS 0.3\n",
      "FPS 0.3\n",
      "FPS 0.4\n",
      "FPS 0.2\n",
      "FPS 0.4\n",
      "FPS 0.3\n",
      "FPS 0.4\n",
      "FPS 0.4\n",
      "FPS 0.4\n",
      "FPS 0.4\n",
      "FPS 0.4\n",
      "FPS 0.2\n",
      "FPS 0.4\n",
      "FPS 0.4\n",
      "FPS 0.4\n",
      "FPS 0.4\n",
      "FPS 0.4\n",
      "FPS 0.4\n",
      "FPS 0.4\n",
      "FPS 0.4\n",
      "FPS 0.3\n",
      "FPS 0.3\n",
      "FPS 0.4\n",
      "FPS 0.2\n",
      "FPS 0.4\n",
      "FPS 0.4\n",
      "FPS 0.3\n",
      "FPS 0.3\n",
      "FPS 0.3\n",
      "FPS 0.3\n",
      "FPS 0.3\n",
      "FPS 0.4\n",
      "FPS 0.4\n",
      "FPS 0.4\n",
      "FPS 0.4\n",
      "FPS 0.4\n",
      "FPS 0.4\n",
      "FPS 0.2\n",
      "FPS 0.3\n",
      "FPS 0.3\n",
      "FPS 0.2\n",
      "FPS 0.3\n",
      "FPS 0.3\n",
      "FPS 0.3\n",
      "FPS 0.3\n",
      "FPS 0.3\n",
      "FPS 0.3\n",
      "FPS 0.3\n",
      "FPS 0.3\n",
      "FPS 0.2\n",
      "FPS 0.3\n",
      "FPS 0.4\n",
      "FPS 0.4\n",
      "FPS 0.4\n",
      "FPS 0.3\n",
      "FPS 0.4\n",
      "FPS 0.4\n",
      "FPS 0.2\n",
      "FPS 0.2\n",
      "FPS 0.3\n",
      "FPS 0.4\n",
      "FPS 0.3\n",
      "FPS 0.4\n",
      "FPS 0.4\n",
      "FPS 0.4\n",
      "FPS 0.4\n",
      "FPS 0.4\n",
      "FPS 0.2\n",
      "FPS 0.3\n",
      "FPS 0.3\n",
      "FPS 0.3\n",
      "FPS 0.4\n",
      "FPS 0.4\n",
      "FPS 0.4\n",
      "FPS 0.4\n",
      "FPS 0.2\n",
      "FPS 0.4\n",
      "FPS 0.4\n",
      "FPS 0.4\n"
     ]
    }
   ],
   "source": [
    "capture = cv2.VideoCapture(0)\n",
    "capture.set(cv2.CAP_PROP_FRAME_WIDTH, 1920)\n",
    "capture.set(cv2.CAP_PROP_FRAME_HEIGHT, 1080)\n",
    "\n",
    "flag = 0\n",
    "\n",
    "while True:\n",
    "    stime = time.time()\n",
    "    ret, frame = capture.read()\n",
    "    \n",
    "    check = 0\n",
    "    \n",
    "    if ret:\n",
    "        results = tfnet.return_predict(frame)\n",
    "        \n",
    "        for result in results:\n",
    "            label = result['label']\n",
    "            if(label == 'person'):\n",
    "                check = 1\n",
    "                break\n",
    "                \n",
    "        if(check == 0):\n",
    "            #p_stime = 0\n",
    "            flag = 0\n",
    "        \n",
    "        for color, result in zip(colors, results):\n",
    "            tl = (result['topleft']['x'], result['topleft']['y'])\n",
    "            br = (result['bottomright']['x'], result['bottomright']['y'])\n",
    "            label = result['label']\n",
    "            \n",
    "            if(label == 'person' and flag == 0):\n",
    "                p_stime = time.time()\n",
    "                flag = 1\n",
    "            \n",
    "            if(flag == 1 and label == 'person' and time.time() - p_stime > 20 ):\n",
    "                smtpObj.sendmail('prolevelsurveillance007@gmail.com','500054226@stu.upes.ac.in','Subject: alert!!!!!!!')\n",
    "                flag = 0\n",
    "            \n",
    "            confidence = result['confidence']\n",
    "            text = '{}: {:.0f}%'.format(label, confidence * 100)\n",
    "            frame = cv2.rectangle(frame, tl, br, color, 5)\n",
    "            frame = cv2.putText(\n",
    "                frame, text, tl, cv2.FONT_HERSHEY_COMPLEX, 1, (0, 0, 0), 2)\n",
    "        cv2.imshow('frame', frame)\n",
    "        print('FPS {:.1f}'.format(1 / (time.time() - stime)))\n",
    "    if cv2.waitKey(1) & 0xFF == ord('q'):\n",
    "        break\n",
    "\n",
    "smtpObj.quit()\n",
    "capture.release()\n",
    "cv2.destroyAllWindows()"
   ]
  },
  {
   "cell_type": "code",
   "execution_count": null,
   "metadata": {},
   "outputs": [],
   "source": [
    "import smtplib\n",
    "#create object in this case we User GMAIL , 587 is Gmail.\n",
    "smtpObj = smtplib.SMTP('smtp.gmail.com', 587)\n",
    "#Encryption.\n",
    "smtpObj.starttls()\n",
    "#Time to login to your email, then enter your password.\n",
    "smtpObj.login('prolevelsurveillance007@gmail.com', 'xyz@12345')\n",
    "#Now Create your Message remember to add your email, then receivers email, subject, message.\n",
    "smtpObj.sendmail('prolevelsurveillance007@gmail.com','500054226@stu.upes.ac.in','Subject: alert!!!!!!!')\n",
    "smtpObj.quit()"
   ]
  },
  {
   "cell_type": "code",
   "execution_count": null,
   "metadata": {},
   "outputs": [],
   "source": []
  }
 ],
 "metadata": {
  "kernelspec": {
   "display_name": "Python 3",
   "language": "python",
   "name": "python3"
  },
  "language_info": {
   "codemirror_mode": {
    "name": "ipython",
    "version": 3
   },
   "file_extension": ".py",
   "mimetype": "text/x-python",
   "name": "python",
   "nbconvert_exporter": "python",
   "pygments_lexer": "ipython3",
   "version": "3.7.4"
  }
 },
 "nbformat": 4,
 "nbformat_minor": 2
}
